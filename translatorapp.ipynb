{
 "cells": [
  {
   "cell_type": "code",
   "execution_count": 4,
   "id": "7c4d60b5",
   "metadata": {},
   "outputs": [
    {
     "data": {
      "application/vnd.jupyter.widget-view+json": {
       "model_id": "af2a0f6a0cf2455fabf534f03d31456d",
       "version_major": 2,
       "version_minor": 0
      },
      "text/plain": [
       "interactive(children=(Textarea(value='', description='Enter text to translate:'), Dropdown(description='Target…"
      ]
     },
     "metadata": {},
     "output_type": "display_data"
    }
   ],
   "source": [
    "# Import necessary libraries\n",
    "from googletrans import Translator\n",
    "from IPython.display import display, HTML\n",
    "from ipywidgets import interact, widgets\n",
    "# Initialize the translator\n",
    "translator = Translator()\n",
    "# Function to perform the translation\n",
    "def translate_text(text, target_language):\n",
    "    translation = translator.translate(text, dest=target_language)\n",
    "    return translation.text\n",
    "# Function to display the translated text\n",
    "def display_translation(text, target_language):\n",
    "    translation = translate_text(text, target_language)\n",
    "    display(HTML(f\"<b>Translated text ({target_language}):</b><br>{translation}\"))\n",
    "# Function to create the user interface\n",
    "def translator_app():\n",
    "    text_input = widgets.Textarea(description=\"Enter text to translate:\")\n",
    "    target_language_dropdown = widgets.Dropdown(\n",
    "        options=[\"en\", \"es\", \"fr\", \"de\", \"ja\"],  # You can add more language codes here\n",
    "        description=\"Target language:\",\n",
    "    )\n",
    "\n",
    "    interact(display_translation, text=text_input, target_language=target_language_dropdown)\n",
    "# Run the translator app\n",
    "translator_app()\n"
   ]
  },
  {
   "cell_type": "code",
   "execution_count": 5,
   "id": "a149b2f0",
   "metadata": {},
   "outputs": [
    {
     "name": "stdout",
     "output_type": "stream",
     "text": [
      "Requirement already satisfied: nltk in c:\\users\\bhagya sri\\anaconda3\\lib\\site-packages (3.7)\n",
      "Requirement already satisfied: click in c:\\users\\bhagya sri\\anaconda3\\lib\\site-packages (from nltk) (8.0.4)\n",
      "Requirement already satisfied: tqdm in c:\\users\\bhagya sri\\anaconda3\\lib\\site-packages (from nltk) (4.64.1)\n",
      "Requirement already satisfied: regex>=2021.8.3 in c:\\users\\bhagya sri\\anaconda3\\lib\\site-packages (from nltk) (2022.7.9)\n",
      "Requirement already satisfied: joblib in c:\\users\\bhagya sri\\anaconda3\\lib\\site-packages (from nltk) (1.1.0)\n",
      "Requirement already satisfied: colorama in c:\\users\\bhagya sri\\anaconda3\\lib\\site-packages (from click->nltk) (0.4.5)\n"
     ]
    }
   ],
   "source": [
    "!pip install nltk"
   ]
  },
  {
   "cell_type": "code",
   "execution_count": null,
   "id": "117d7967",
   "metadata": {},
   "outputs": [],
   "source": []
  }
 ],
 "metadata": {
  "kernelspec": {
   "display_name": "Python 3 (ipykernel)",
   "language": "python",
   "name": "python3"
  },
  "language_info": {
   "codemirror_mode": {
    "name": "ipython",
    "version": 3
   },
   "file_extension": ".py",
   "mimetype": "text/x-python",
   "name": "python",
   "nbconvert_exporter": "python",
   "pygments_lexer": "ipython3",
   "version": "3.9.13"
  }
 },
 "nbformat": 4,
 "nbformat_minor": 5
}
